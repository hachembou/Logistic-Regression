{
 "cells": [
  {
   "cell_type": "code",
   "execution_count": 1,
   "id": "27495e12",
   "metadata": {},
   "outputs": [],
   "source": [
    "import requests\n",
    "import numpy as np \n",
    "import matplotlib.pyplot as plt \n",
    "import pandas as pd "
   ]
  },
  {
   "cell_type": "code",
   "execution_count": 2,
   "id": "fb81480f",
   "metadata": {},
   "outputs": [],
   "source": [
    "urls = [\n",
    "    \"http://yann.lecun.com/exdb/mnist/train-images-idx3-ubyte.gz\",\n",
    "    \"http://yann.lecun.com/exdb/mnist/train-labels-idx1-ubyte.gz\",\n",
    "    \"http://yann.lecun.com/exdb/mnist/t10k-images-idx3-ubyte.gz\",\n",
    "    \"http://yann.lecun.com/exdb/mnist/t10k-labels-idx1-ubyte.gz\"\n",
    "]"
   ]
  },
  {
   "cell_type": "code",
   "execution_count": 3,
   "id": "f0d9b2a3",
   "metadata": {},
   "outputs": [],
   "source": [
    "# def download_data(file,target):\n",
    "#     res = requests.get(file)\n",
    "#     with open(target , 'wb') as file:\n",
    "#      file.write(res.content)\n",
    "# download_data(urls[0], 'train_images.gz')\n",
    "# download_data(urls[1], 'train_labels.gz')\n",
    "# download_data(urls[2], 'test_images.gz')\n",
    "# download_data(urls[3], 'test_labels.gz')"
   ]
  },
  {
   "cell_type": "code",
   "execution_count": 4,
   "id": "199ed415",
   "metadata": {},
   "outputs": [],
   "source": [
    "import gzip\n",
    "def image_process(file_name) : \n",
    "    with gzip.open(file_name,\"rb\") as file : \n",
    "        Data =  np.frombuffer(file.read(), dtype=np.uint8, offset=16).reshape(-1, 28, 28)\n",
    "    with gzip.open('train_label.gz', 'rb') as f:\n",
    "        # Data = Data/255\n",
    "        return Data.reshape(-1,28,28)\n",
    "def label_process(file_name) : \n",
    "    with gzip.open(file_name,\"rb\") as file : \n",
    "        Data = np.frombuffer(file.read(), dtype=np.uint8, offset=8)\n",
    "        return Data"
   ]
  },
  {
   "cell_type": "code",
   "execution_count": 5,
   "id": "555eb990",
   "metadata": {},
   "outputs": [],
   "source": [
    "x_train = image_process(\"train_images.gz\")\n",
    "x_test  = image_process(\"test_images.gz\")\n",
    "y_train = label_process(\"train_label.gz\")\n",
    "y_test  = label_process(\"test_label.gz\")"
   ]
  },
  {
   "cell_type": "code",
   "execution_count": 6,
   "id": "8a70581e",
   "metadata": {},
   "outputs": [
    {
     "data": {
      "image/png": "[encoded data removed]",
      "text/plain": [
       "<Figure size 1000x500 with 10 Axes>"
      ]
     },
     "metadata": {},
     "output_type": "display_data"
    }
   ],
   "source": [
    "import matplotlib.pyplot as plt\n",
    "fig,axs = plt.subplots(2,5)\n",
    "axs=axs.ravel()\n",
    "\n",
    "for i in range(10) : \n",
    "    axs[i].imshow(x_train[i],cmap='gray')\n",
    "    axs[i].set_title(str(y_train[i]))\n",
    "    axs[i].axis('off')\n",
    "plt.show()"
   ]
  },
  {
   "cell_type": "code",
   "execution_count": 7,
   "id": "964e5041",
   "metadata": {},
   "outputs": [
    {
     "name": "stderr",
     "output_type": "stream",
     "text": [
      "C:\\Users\\WIN 8\\anaconda3\\lib\\site-packages\\sklearn\\linear_model\\_logistic.py:814: ConvergenceWarning: lbfgs failed to converge (status=1):\n",
      "STOP: TOTAL NO. of ITERATIONS REACHED LIMIT.\n",
      "\n",
      "Increase the number of iterations (max_iter) or scale the data as shown in:\n",
      "    https://scikit-learn.org/stable/modules/preprocessing.html\n",
      "Please also refer to the documentation for alternative solver options:\n",
      "    https://scikit-learn.org/stable/modules/linear_model.html#logistic-regression\n",
      "  n_iter_i = _check_optimize_result(\n"
     ]
    },
    {
     "data": {
      "text/plain": [
       "LogisticRegression()"
      ]
     },
     "execution_count": 7,
     "metadata": {},
     "output_type": "execute_result"
    }
   ],
   "source": [
    "from sklearn.linear_model import LogisticRegression\n",
    "model = LogisticRegression()\n",
    "model.fit(x_train.reshape((-1,28*28)),y_train)"
   ]
  },
  {
   "cell_type": "code",
   "execution_count": 8,
   "id": "bdd156e7",
   "metadata": {},
   "outputs": [],
   "source": [
    "y_pred = model.predict(x_test.reshape(-1,28*28))"
   ]
  },
  {
   "cell_type": "code",
   "execution_count": 9,
   "id": "733fd895",
   "metadata": {},
   "outputs": [
    {
     "name": "stdout",
     "output_type": "stream",
     "text": [
      "0.9255\n"
     ]
    }
   ],
   "source": [
    "from sklearn.metrics import accuracy_score\n",
    "print(accuracy_score(y_pred,y_test))"
   ]
  },
  {
   "cell_type": "code",
   "execution_count": null,
   "id": "b74734f3",
   "metadata": {},
   "outputs": [],
   "source": []
  },
  {
   "cell_type": "code",
   "execution_count": null,
   "id": "f602778b",
   "metadata": {},
   "outputs": [],
   "source": []
  }
 ],
 "metadata": {
  "kernelspec": {
   "display_name": "Python 3 (ipykernel)",
   "language": "python",
   "name": "python3"
  },
  "language_info": {
   "codemirror_mode": {
    "name": "ipython",
    "version": 3
   },
   "file_extension": ".py",
   "mimetype": "text/x-python",
   "name": "python",
   "nbconvert_exporter": "python",
   "pygments_lexer": "ipython3",
   "version": "3.9.13"
  }
 },
 "nbformat": 4,
 "nbformat_minor": 5
}
