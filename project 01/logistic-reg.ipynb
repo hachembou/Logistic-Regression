{
 "cells": [
  {
   "cell_type": "markdown",
   "id": "b69c3a5b",
   "metadata": {},
   "source": [
    "# Partie 1 — Régression Logistique en action"
   ]
  },
  {
   "cell_type": "code",
   "execution_count": 1,
   "id": "4489e8d6",
   "metadata": {},
   "outputs": [
    {
     "name": "stdout",
     "output_type": "stream",
     "text": [
      "[[83  2]\n",
      " [ 2 53]]\n"
     ]
    },
    {
     "data": {
      "image/png": "[encoded data removed]",
      "text/plain": [
       "<Figure size 432x288 with 2 Axes>"
      ]
     },
     "metadata": {
      "needs_background": "light"
     },
     "output_type": "display_data"
    },
    {
     "name": "stdout",
     "output_type": "stream",
     "text": [
      "Accuracy: 96.95 %\n",
      "Standard Deviation: 1.81 %\n"
     ]
    }
   ],
   "source": [
    "import pandas as pd\n",
    "import numpy as np\n",
    "import matplotlib.pyplot as plt\n",
    "\n",
    "dataset = pd.read_csv('breast_cancer.csv')\n",
    "x = dataset.iloc[:, 1:-1].values\n",
    "y = dataset.iloc[:, -1].values\n",
    "\n",
    "np.any(np.isnan(x)) # is there any missing value in x?\n",
    "## False\n",
    "np.any(np.isnan(y)) # is there any missing value in y?\n",
    "## False\n",
    "\n",
    "from sklearn.model_selection import train_test_split\n",
    "x_train, x_test, y_train, y_test = train_test_split(x, y, test_size = 0.2, \n",
    " random_state = 0)\n",
    "\n",
    "from sklearn.linear_model import LogisticRegression\n",
    "classifier = LogisticRegression(random_state = 0)\n",
    "classifier.fit(x_train, y_train)\n",
    "LogisticRegression(C = 1.0, class_weight = None, dual = False, fit_intercept = True,\n",
    " intercept_scaling = 1, l1_ratio = None, max_iter = 100,\n",
    " multi_class = 'auto', n_jobs = None, penalty = 'l2',\n",
    " random_state = 0, solver = 'lbfgs', tol = 0.0001, verbose = 0,\n",
    " warm_start = False)\n",
    "\n",
    "y_pred = classifier.predict(x_test)\n",
    "y_pred[0:10]\n",
    "\n",
    "comparison = np.concatenate((y_test.reshape(-1,1), y_pred.reshape(-1,1)), axis = 1) \n",
    "#comparing the real values vs predictions\n",
    "comparison[0:10,:]\n",
    "\n",
    "from sklearn.metrics import confusion_matrix\n",
    "cm = confusion_matrix(y_test, y_pred)\n",
    "print(cm)\n",
    "\n",
    "from sklearn.metrics import plot_confusion_matrix\n",
    "plot_confusion_matrix(classifier, x_test, y_test)\n",
    "plt.xlabel(\"Predicted tumor class\")\n",
    "plt.ylabel(\"True tumor class\")\n",
    "plt.show()\n",
    "\n",
    "from sklearn.model_selection import cross_val_score\n",
    "accuracies = cross_val_score(estimator = classifier, X = x_train, y = y_train, cv=10)\n",
    "print(\"Accuracy: {:.2f} %\".format(accuracies.mean()*100))\n",
    "print(\"Standard Deviation: {:.2f} %\".format(accuracies.std()*100))"
   ]
  }
 ],
 "metadata": {
  "kernelspec": {
   "display_name": "Python 3 (ipykernel)",
   "language": "python",
   "name": "python3"
  },
  "language_info": {
   "codemirror_mode": {
    "name": "ipython",
    "version": 3
   },
   "file_extension": ".py",
   "mimetype": "text/x-python",
   "name": "python",
   "nbconvert_exporter": "python",
   "pygments_lexer": "ipython3",
   "version": "3.9.7"
  }
 },
 "nbformat": 4,
 "nbformat_minor": 5
}
